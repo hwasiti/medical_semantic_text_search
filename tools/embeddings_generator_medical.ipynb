{
 "cells": [
  {
   "cell_type": "markdown",
   "id": "1c8280b1-88ce-447a-9408-2eaf0f7c4d84",
   "metadata": {},
   "source": [
    "# Compute the embeddings of the passages"
   ]
  },
  {
   "cell_type": "code",
   "execution_count": 4,
   "id": "802f2e05-64ef-4fac-a881-2d32753bf3fb",
   "metadata": {},
   "outputs": [],
   "source": [
    "from pathlib import Path\n",
    "import pandas as pd\n",
    "from tqdm.auto import tqdm \n",
    "import json\n",
    "import torch\n",
    "# !pip install sentence_transformers\n",
    "from sentence_transformers import SentenceTransformer\n",
    "from transformers import AutoModel, AutoTokenizer"
   ]
  },
  {
   "cell_type": "code",
   "execution_count": 18,
   "id": "51dba525-3a9f-4de7-85c6-07ac29f95734",
   "metadata": {},
   "outputs": [],
   "source": [
    "CSC = True\n",
    "MDL = 1\n",
    "\n",
    "if MDL == 1:\n",
    "    model_id = \"paraphrase-multilingual-mpnet-base-v2\"\n",
    "    dim = 768  # dim = model.get_sentence_embedding_dimension()\n",
    "    metric = 'cosine'\n",
    "elif MDL == 2:\n",
    "    model_id = \"multi-qa-mpnet-base-dot-v1\"   # English only\n",
    "    dim = 768\n",
    "    metric = 'dotproduct'\n",
    "elif MDL == 3:\n",
    "    model_id = \"LaBSE\"\n",
    "    dim = 768\n",
    "    metric = 'cosine'\n",
    "elif MDL == 4:\n",
    "    model_id = \"symanto/sn-xlm-roberta-base-snli-mnli-anli-xnli\"\n",
    "    dim = 768\n",
    "    metric = 'cosine'\n",
    "elif MDL == 5:\n",
    "    model_id = \"microsoft/Multilingual-MiniLM-L12-H384\"\n",
    "    dim = 384\n",
    "    metric = 'dotproduct'  # I am not sure whether should be cosine or dotproduct\n",
    "elif MDL == 6:\n",
    "    model_id = \"cross-encoder/mmarco-mMiniLMv2-L12-H384-v1\"\n",
    "    dim = 384\n",
    "    metric = 'dotproduct'   # I am not sure whether should be cosine or dotproduct\n",
    "elif MDL == 7:\n",
    "    model_id = \"Muennighoff/SGPT-5.8B-weightedmean-msmarco-specb-bitfit\"\n",
    "    dim = 4096\n",
    "    metric = 'cosine'\n",
    "elif MDL == 8:\n",
    "    model_id = \"cohere-multilingual-22-12\"\n",
    "    dim = 768\n",
    "    metric = 'dotproduct'  # https://docs.cohere.ai/docs/multilingual-language-models\n",
    "elif MDL == 9:\n",
    "    model_id = \"openai-text-embedding-ada-002\"\n",
    "    dim = 1536\n",
    "    metric = 'cosine'  # Iam not sue but see: https://community.openai.com/t/some-questions-about-text-embedding-ada-002-s-embedding/35299/17\n",
    "    # and here James Briggs is using cosine\n",
    "\n",
    "# limit to 384 characters to be safe and ensure we're not over the smaller 128 token limit \n",
    "# average token length of 3 characters (usually it is more like 3-5)\n",
    "limit = 384     \n",
    "    \n",
    "# Some local file to cache computed embeddings\n",
    "embedding_cache_path = '../emb/pubmed-embeddings-{}-chars-{}.json'.format(model_id.replace('/', '_'), limit)    \n",
    "\n",
    "# Try to use GPU\n",
    "device = 'cuda' if torch.cuda.is_available() else 'cpu'\n",
    "if not CSC and model_id == \"Muennighoff/SGPT-5.8B-weightedmean-msmarco-specb-bitfit\":\n",
    "    device = 'cpu'  # My GTX1080Ti RAM is not enough \n",
    "\n",
    "# check device being run on\n",
    "if device != 'cuda':\n",
    "    print(\"==========\\n\"+\n",
    "          \"WARNING: You are not running on GPU so this may be slow.\\n\"+\n",
    "          \"==========\")\n",
    "\n",
    "    "
   ]
  },
  {
   "cell_type": "code",
   "execution_count": 3,
   "id": "243bef72-56cb-4975-8139-7f23c119dd77",
   "metadata": {},
   "outputs": [
    {
     "name": "stderr",
     "output_type": "stream",
     "text": [
      "Found cached dataset pubmed_qa (/users/alwasiti/.cache/huggingface/datasets/pubmed_qa/pqa_labeled/1.0.0/dd4c39f031a958c7e782595fa4dd1b1330484e8bbadd4d9212e5046f27e68924)\n"
     ]
    }
   ],
   "source": [
    "from datasets import load_dataset\n",
    "\n",
    "ds = load_dataset(\n",
    "    'pubmed_qa',\n",
    "    'pqa_labeled',\n",
    "    split='train'\n",
    ")"
   ]
  },
  {
   "cell_type": "code",
   "execution_count": 5,
   "id": "f79dbf99-1427-475a-b3d1-402acd21e9fb",
   "metadata": {},
   "outputs": [],
   "source": [
    "# Some local file to cache computed embeddings\n",
    "embedding_cache_path = '../emb/pubmed-embeddings-{}-chars-{}.json'.format(model_id.replace('/', '_'), limit)"
   ]
  },
  {
   "cell_type": "code",
   "execution_count": 6,
   "id": "2d0b4156-3463-46c5-9542-6eccf880a432",
   "metadata": {},
   "outputs": [
    {
     "data": {
      "text/plain": [
       "{'pubid': 21645374,\n",
       " 'question': 'Do mitochondria play a role in remodelling lace plant leaves during programmed cell death?',\n",
       " 'context': {'contexts': ['Programmed cell death (PCD) is the regulated death of cells within an organism. The lace plant (Aponogeton madagascariensis) produces perforations in its leaves through PCD. The leaves of the plant consist of a latticework of longitudinal and transverse veins enclosing areoles. PCD occurs in the cells at the center of these areoles and progresses outwards, stopping approximately five cells from the vasculature. The role of mitochondria during PCD has been recognized in animals; however, it has been less studied during PCD in plants.',\n",
       "   'The following paper elucidates the role of mitochondrial dynamics during developmentally regulated PCD in vivo in A. madagascariensis. A single areole within a window stage leaf (PCD is occurring) was divided into three areas based on the progression of PCD; cells that will not undergo PCD (NPCD), cells in early stages of PCD (EPCD), and cells in late stages of PCD (LPCD). Window stage leaves were stained with the mitochondrial dye MitoTracker Red CMXRos and examined. Mitochondrial dynamics were delineated into four categories (M1-M4) based on characteristics including distribution, motility, and membrane potential (ΔΨm). A TUNEL assay showed fragmented nDNA in a gradient over these mitochondrial stages. Chloroplasts and transvacuolar strands were also examined using live cell imaging. The possible importance of mitochondrial permeability transition pore (PTP) formation during PCD was indirectly examined via in vivo cyclosporine A (CsA) treatment. This treatment resulted in lace plant leaves with a significantly lower number of perforations compared to controls, and that displayed mitochondrial dynamics similar to that of non-PCD cells.'],\n",
       "  'labels': ['BACKGROUND', 'RESULTS'],\n",
       "  'meshes': ['Alismataceae',\n",
       "   'Apoptosis',\n",
       "   'Cell Differentiation',\n",
       "   'Mitochondria',\n",
       "   'Plant Leaves'],\n",
       "  'reasoning_required_pred': ['y', 'e', 's'],\n",
       "  'reasoning_free_pred': ['y', 'e', 's']},\n",
       " 'long_answer': 'Results depicted mitochondrial dynamics in vivo as PCD progresses within the lace plant, and highlight the correlation of this organelle with other organelles during developmental PCD. To the best of our knowledge, this is the first report of mitochondria and chloroplasts moving on transvacuolar strands to form a ring structure surrounding the nucleus during developmental PCD. Also, for the first time, we have shown the feasibility for the use of CsA in a whole plant system. Overall, our findings implicate the mitochondria as playing a critical and early role in developmentally regulated PCD in the lace plant.',\n",
       " 'final_decision': 'yes'}"
      ]
     },
     "execution_count": 6,
     "metadata": {},
     "output_type": "execute_result"
    }
   ],
   "source": [
    "ds[0]"
   ]
  },
  {
   "cell_type": "code",
   "execution_count": 7,
   "id": "64762866-2af8-4683-b2ef-09a4ef0edb30",
   "metadata": {},
   "outputs": [
    {
     "data": {
      "text/plain": [
       "Dataset({\n",
       "    features: ['pubid', 'question', 'context', 'long_answer', 'final_decision'],\n",
       "    num_rows: 1000\n",
       "})"
      ]
     },
     "execution_count": 7,
     "metadata": {},
     "output_type": "execute_result"
    }
   ],
   "source": [
    "ds"
   ]
  },
  {
   "cell_type": "code",
   "execution_count": 8,
   "id": "53d3f4f4-0d60-4dc2-85bd-8f5b28d381b4",
   "metadata": {},
   "outputs": [],
   "source": [
    "def chunker(contexts: list):\n",
    "    chunks = []\n",
    "    all_contexts = ' '.join(contexts).split('.')\n",
    "    chunk = []\n",
    "    for context in all_contexts:\n",
    "        chunk.append(context)\n",
    "        if len(chunk) >= 3 and len('.'.join(chunk)) > limit:\n",
    "            # surpassed limit so add to chunks and reset\n",
    "            chunks.append('.'.join(chunk).strip()+'.')\n",
    "            # add some overlap between passages\n",
    "            chunk = chunk[-1:]  # 1 sentence overlap\n",
    "    # if we finish and still have a chunk, add it\n",
    "    if chunk is not None:\n",
    "        chunks.append('.'.join(chunk))\n",
    "    return chunks"
   ]
  },
  {
   "cell_type": "code",
   "execution_count": 9,
   "id": "4e2f2e56-58ee-4a0e-af8d-439122a3844b",
   "metadata": {},
   "outputs": [],
   "source": [
    "contexts = ds[0]['context']['contexts']\n",
    "chunks = chunker(contexts)"
   ]
  },
  {
   "cell_type": "code",
   "execution_count": 10,
   "id": "1b24aa4e-846d-4df7-a0e8-e7cae070f50d",
   "metadata": {},
   "outputs": [
    {
     "data": {
      "text/plain": [
       "['Programmed cell death (PCD) is the regulated death of cells within an organism. The lace plant (Aponogeton madagascariensis) produces perforations in its leaves through PCD. The leaves of the plant consist of a latticework of longitudinal and transverse veins enclosing areoles. PCD occurs in the cells at the center of these areoles and progresses outwards, stopping approximately five cells from the vasculature.',\n",
       " 'PCD occurs in the cells at the center of these areoles and progresses outwards, stopping approximately five cells from the vasculature. The role of mitochondria during PCD has been recognized in animals; however, it has been less studied during PCD in plants. The following paper elucidates the role of mitochondrial dynamics during developmentally regulated PCD in vivo in A. madagascariensis.',\n",
       " 'madagascariensis. A single areole within a window stage leaf (PCD is occurring) was divided into three areas based on the progression of PCD; cells that will not undergo PCD (NPCD), cells in early stages of PCD (EPCD), and cells in late stages of PCD (LPCD). Window stage leaves were stained with the mitochondrial dye MitoTracker Red CMXRos and examined. Mitochondrial dynamics were delineated into four categories (M1-M4) based on characteristics including distribution, motility, and membrane potential (ΔΨm).',\n",
       " 'Mitochondrial dynamics were delineated into four categories (M1-M4) based on characteristics including distribution, motility, and membrane potential (ΔΨm). A TUNEL assay showed fragmented nDNA in a gradient over these mitochondrial stages. Chloroplasts and transvacuolar strands were also examined using live cell imaging. The possible importance of mitochondrial permeability transition pore (PTP) formation during PCD was indirectly examined via in vivo cyclosporine A (CsA) treatment.',\n",
       " ' The possible importance of mitochondrial permeability transition pore (PTP) formation during PCD was indirectly examined via in vivo cyclosporine A (CsA) treatment. This treatment resulted in lace plant leaves with a significantly lower number of perforations compared to controls, and that displayed mitochondrial dynamics similar to that of non-PCD cells.']"
      ]
     },
     "execution_count": 10,
     "metadata": {},
     "output_type": "execute_result"
    }
   ],
   "source": [
    "chunks"
   ]
  },
  {
   "cell_type": "code",
   "execution_count": 11,
   "id": "3fc57304-f9dc-4db7-b389-7699dc6d0216",
   "metadata": {},
   "outputs": [
    {
     "data": {
      "text/plain": [
       "['21645374-0', '21645374-1', '21645374-2', '21645374-3', '21645374-4']"
      ]
     },
     "execution_count": 11,
     "metadata": {},
     "output_type": "execute_result"
    }
   ],
   "source": [
    "# give each chunk a unique ID\n",
    "ids = []\n",
    "for i in range(len(chunks)):\n",
    "    ids.append(f\"{ds[0]['pubid']}-{i}\")\n",
    "ids"
   ]
  },
  {
   "cell_type": "code",
   "execution_count": 12,
   "id": "bd83dd02-0b78-44c8-9151-8a2fb70b5caf",
   "metadata": {},
   "outputs": [
    {
     "data": {
      "text/plain": [
       "[{'id': '21645374-0',\n",
       "  'context': 'Programmed cell death (PCD) is the regulated death of cells within an organism. The lace plant (Aponogeton madagascariensis) produces perforations in its leaves through PCD. The leaves of the plant consist of a latticework of longitudinal and transverse veins enclosing areoles. PCD occurs in the cells at the center of these areoles and progresses outwards, stopping approximately five cells from the vasculature.'},\n",
       " {'id': '21645374-1',\n",
       "  'context': 'PCD occurs in the cells at the center of these areoles and progresses outwards, stopping approximately five cells from the vasculature. The role of mitochondria during PCD has been recognized in animals; however, it has been less studied during PCD in plants. The following paper elucidates the role of mitochondrial dynamics during developmentally regulated PCD in vivo in A. madagascariensis.'},\n",
       " {'id': '21645374-2',\n",
       "  'context': 'madagascariensis. A single areole within a window stage leaf (PCD is occurring) was divided into three areas based on the progression of PCD; cells that will not undergo PCD (NPCD), cells in early stages of PCD (EPCD), and cells in late stages of PCD (LPCD). Window stage leaves were stained with the mitochondrial dye MitoTracker Red CMXRos and examined. Mitochondrial dynamics were delineated into four categories (M1-M4) based on characteristics including distribution, motility, and membrane potential (ΔΨm).'},\n",
       " {'id': '21645374-3',\n",
       "  'context': 'Mitochondrial dynamics were delineated into four categories (M1-M4) based on characteristics including distribution, motility, and membrane potential (ΔΨm). A TUNEL assay showed fragmented nDNA in a gradient over these mitochondrial stages. Chloroplasts and transvacuolar strands were also examined using live cell imaging. The possible importance of mitochondrial permeability transition pore (PTP) formation during PCD was indirectly examined via in vivo cyclosporine A (CsA) treatment.'},\n",
       " {'id': '21645374-4',\n",
       "  'context': ' The possible importance of mitochondrial permeability transition pore (PTP) formation during PCD was indirectly examined via in vivo cyclosporine A (CsA) treatment. This treatment resulted in lace plant leaves with a significantly lower number of perforations compared to controls, and that displayed mitochondrial dynamics similar to that of non-PCD cells.'},\n",
       " {'id': '16418930-0',\n",
       "  'context': 'Assessment of visual acuity depends on the optotypes used for measurement. The ability to recognize different optotypes differs even if their critical details appear under the same visual angle. Since optotypes are evaluated on individuals with good visual acuity and without eye disorders, differences in the lower visual acuity range cannot be excluded. In this study, visual acuity measured with the Snellen E was compared to the Landolt C acuity.'},\n",
       " {'id': '16418930-1',\n",
       "  'context': 'In this study, visual acuity measured with the Snellen E was compared to the Landolt C acuity. 100 patients (age 8 - 90 years, median 60.5 years) with various eye disorders, among them 39 with amblyopia due to strabismus, and 13 healthy volunteers were tested. Charts with the Snellen E and the Landolt C (Precision Vision) which mimic the ETDRS charts were used to assess visual acuity.'}]"
      ]
     },
     "execution_count": 12,
     "metadata": {},
     "output_type": "execute_result"
    }
   ],
   "source": [
    "# create the full contexts dataset \n",
    "data = []\n",
    "for record in ds:\n",
    "    chunks = chunker(record['context']['contexts'])\n",
    "    for i, context in enumerate(chunks):\n",
    "        data.append({\n",
    "            'id': f\"{record['pubid']}-{i}\",\n",
    "            'context': context\n",
    "        })\n",
    "\n",
    "data[:7]"
   ]
  },
  {
   "cell_type": "code",
   "execution_count": 13,
   "id": "59a5a5c1-3782-41fa-a990-7df51a89d50e",
   "metadata": {},
   "outputs": [
    {
     "data": {
      "text/plain": [
       "4316"
      ]
     },
     "execution_count": 13,
     "metadata": {},
     "output_type": "execute_result"
    }
   ],
   "source": [
    "len(data)"
   ]
  },
  {
   "cell_type": "code",
   "execution_count": 14,
   "id": "025ed290-f87f-4f6d-9ebb-72d078a52033",
   "metadata": {
    "tags": []
   },
   "outputs": [],
   "source": [
    "if model_id == \"Muennighoff/SGPT-5.8B-weightedmean-msmarco-specb-bitfit\":\n",
    "    tokenizer = AutoTokenizer.from_pretrained(model_id)\n",
    "    if CSC:\n",
    "        dense_model = AutoModel.from_pretrained(model_id, cache_dir='/scratch/project_2007072/cache').to(device)\n",
    "    else:\n",
    "        dense_model = AutoModel.from_pretrained(model_id).to(device)\n",
    "    # Deactivate Dropout (There is no dropout in the above models so it makes no difference here but other SGPT models may have dropout)\n",
    "    dense_model.eval()\n",
    "    SPECB_QUE_BOS = tokenizer.encode(\"[\", add_special_tokens=False)[0]\n",
    "    SPECB_QUE_EOS = tokenizer.encode(\"]\", add_special_tokens=False)[0]\n",
    "    SPECB_DOC_BOS = tokenizer.encode(\"{\", add_special_tokens=False)[0]\n",
    "    SPECB_DOC_EOS = tokenizer.encode(\"}\", add_special_tokens=False)[0]\n",
    "    \n",
    "    def tokenize_with_specb(texts, is_query):\n",
    "        # Tokenize without padding\n",
    "        batch_tokens = tokenizer(texts, padding=False, truncation=True)   \n",
    "        # Add special brackets & pay attention to them\n",
    "        for seq, att in zip(batch_tokens[\"input_ids\"], batch_tokens[\"attention_mask\"]):\n",
    "            if is_query:\n",
    "                seq.insert(0, SPECB_QUE_BOS)\n",
    "                seq.append(SPECB_QUE_EOS)\n",
    "            else:\n",
    "                seq.insert(0, SPECB_DOC_BOS)\n",
    "                seq.append(SPECB_DOC_EOS)\n",
    "            att.insert(0, 1)\n",
    "            att.append(1)\n",
    "        # Add padding\n",
    "        batch_tokens = tokenizer.pad(batch_tokens, padding=True, return_tensors=\"pt\")\n",
    "        return batch_tokens.to(device)\n",
    "\n",
    "    def get_weightedmean_embedding(batch_tokens, model):\n",
    "        # Get the embeddings\n",
    "        with torch.no_grad():\n",
    "            # Get hidden state of shape [bs, seq_len, hid_dim]\n",
    "            last_hidden_state = model(**batch_tokens, output_hidden_states=True, return_dict=True).last_hidden_state\n",
    "\n",
    "        # Get weights of shape [bs, seq_len, hid_dim]\n",
    "        weights = (\n",
    "            torch.arange(start=1, end=last_hidden_state.shape[1] + 1)\n",
    "            .unsqueeze(0)\n",
    "            .unsqueeze(-1)\n",
    "            .expand(last_hidden_state.size())\n",
    "            .float().to(last_hidden_state.device)\n",
    "        )\n",
    "\n",
    "        # Get attn mask of shape [bs, seq_len, hid_dim]\n",
    "        input_mask_expanded = (\n",
    "            batch_tokens[\"attention_mask\"]\n",
    "            .unsqueeze(-1)\n",
    "            .expand(last_hidden_state.size())\n",
    "            .float()\n",
    "        )\n",
    "\n",
    "        # Perform weighted mean pooling across seq_len: bs, seq_len, hidden_dim -> bs, hidden_dim\n",
    "        sum_embeddings = torch.sum(last_hidden_state * input_mask_expanded * weights, dim=1)\n",
    "        sum_mask = torch.sum(input_mask_expanded * weights, dim=1)\n",
    "\n",
    "        embeddings = sum_embeddings / sum_mask\n",
    "\n",
    "        return embeddings\n",
    "else:\n",
    "    dense_model = SentenceTransformer(\n",
    "        model_id,\n",
    "        device=device\n",
    "    )"
   ]
  },
  {
   "cell_type": "markdown",
   "id": "ad339797-3418-4259-aa3b-a722bc33c59d",
   "metadata": {},
   "source": [
    "we will need to index everything in the format:\n",
    "```python\n",
    "{\n",
    "    'id': 'id-123',\n",
    "    'values': [0.1, 0.2, ...],  # dense vec\n",
    "    'metadata': {\n",
    "        'context': 'some text here',\n",
    "        'media': 'medical data',\n",
    "        'language': 'en'\n",
    "                }  # metadata dict\n",
    "}\n",
    "```"
   ]
  },
  {
   "cell_type": "code",
   "execution_count": 15,
   "id": "895aac32-577e-466d-ae3f-a577e322c2a7",
   "metadata": {},
   "outputs": [],
   "source": [
    "def builder(records: list):\n",
    "    ids = [x['id'] for x in records]\n",
    "    contexts = [x['context'] for x in records]\n",
    "    # create dense vecs\n",
    "    if model_id == \"Muennighoff/SGPT-5.8B-weightedmean-msmarco-specb-bitfit\":\n",
    "        dense_vecs = get_weightedmean_embedding(tokenize_with_specb(contexts, is_query=False), dense_model).tolist()\n",
    "    else:\n",
    "        dense_vecs = dense_model.encode(contexts).tolist()\n",
    "    # convert to upsert format of pinecone\n",
    "    upserts = []\n",
    "    for _id, dense_vec, context in zip(ids, dense_vecs, contexts):\n",
    "        # build metadata struct\n",
    "        metadata = {\n",
    "            'context': context,\n",
    "            'media': 'medical data',\n",
    "            'language': 'en'\n",
    "        }\n",
    "        # append all to upserts list as pinecone.Vector (or GRPCVector)\n",
    "        upserts.append({\n",
    "            'id': _id,\n",
    "            'values': dense_vec,\n",
    "            'metadata': metadata\n",
    "        })\n",
    "    return upserts"
   ]
  },
  {
   "cell_type": "code",
   "execution_count": 17,
   "id": "064c508e-c5ab-4931-bf30-d9af7166de53",
   "metadata": {},
   "outputs": [
    {
     "data": {
      "application/vnd.jupyter.widget-view+json": {
       "model_id": "b20e2fb4c61846a2a552bb7dd44b9d9c",
       "version_major": 2,
       "version_minor": 0
      },
      "text/plain": [
       "  0%|          | 0/4316 [00:00<?, ?it/s]"
      ]
     },
     "metadata": {},
     "output_type": "display_data"
    }
   ],
   "source": [
    "if model_id == \"Muennighoff/SGPT-5.8B-weightedmean-msmarco-specb-bitfit\":    \n",
    "    batch_size = 1\n",
    "else:\n",
    "    batch_size = 64\n",
    "        \n",
    "upserts = []\n",
    "\n",
    "for i in tqdm(range(0, len(data), batch_size)):\n",
    "    # extract batch of data\n",
    "    i_end = min(i+batch_size, len(data))\n",
    "    batch = data[i:i_end]\n",
    "    # pass data to builder and save it in upsert list\n",
    "    upserts.extend(builder(data[i:i+batch_size]))"
   ]
  },
  {
   "cell_type": "code",
   "execution_count": 18,
   "id": "d97d9a5c-23fb-4939-84b8-1b3aeda8f93c",
   "metadata": {},
   "outputs": [
    {
     "name": "stdout",
     "output_type": "stream",
     "text": [
      "Store file on disc\n"
     ]
    }
   ],
   "source": [
    "print(\"Store file on disc\")\n",
    "json.dump(upserts, open(embedding_cache_path, 'w', encoding='utf-8'), ensure_ascii=False)"
   ]
  },
  {
   "cell_type": "markdown",
   "id": "d870aa73-3644-426b-a08a-ddc28f240063",
   "metadata": {},
   "source": [
    "# Loading embeddings and upserting into Pinecone index"
   ]
  },
  {
   "cell_type": "code",
   "execution_count": 27,
   "id": "143e71ea-39d1-4dfd-a5f7-0b5266404488",
   "metadata": {},
   "outputs": [],
   "source": [
    "# Loading Pinecone API from the credentials.json file in the same directory\n",
    "# this file is not included in the repo, but you can create it yourself\n",
    "with open('../credentials.json') as file:\n",
    "    credentials = json.load(file)\n",
    "\n",
    "PINECONE_KEY = credentials['PINECONE_KEY_' + model_id]\n",
    "index_id = 'med-sem-' + model_id.lower()"
   ]
  },
  {
   "cell_type": "code",
   "execution_count": 20,
   "id": "294b6c0c-099e-4b08-bef8-783d74d69f12",
   "metadata": {},
   "outputs": [
    {
     "data": {
      "text/plain": [
       "'../emb/pubmed-embeddings-paraphrase-multilingual-mpnet-base-v2-chars-384.json'"
      ]
     },
     "execution_count": 20,
     "metadata": {},
     "output_type": "execute_result"
    }
   ],
   "source": [
    "embedding_cache_path"
   ]
  },
  {
   "cell_type": "code",
   "execution_count": 35,
   "id": "a8169c1c-50a4-483a-a46f-4ad907497d6d",
   "metadata": {},
   "outputs": [],
   "source": [
    "# Read data to upsert to the DB\n",
    "upserts = json.load(open(embedding_cache_path, 'r', encoding='utf-8'))"
   ]
  },
  {
   "cell_type": "code",
   "execution_count": null,
   "id": "08b4d511-7435-497e-a0c8-a0746998ff24",
   "metadata": {},
   "outputs": [
    {
     "data": {
      "text/plain": [
       "{'dimension': 768,\n",
       " 'index_fullness': 0.0,\n",
       " 'namespaces': {},\n",
       " 'total_vector_count': 0}"
      ]
     },
     "execution_count": 31,
     "metadata": {},
     "output_type": "execute_result"
    }
   ],
   "source": [
    "import pinecone  # pip install pinecone-client\n",
    "\n",
    "pinecone.init(\n",
    "    api_key=PINECONE_KEY,  # app.pinecone.io\n",
    "    environment=\"us-central1-gcp\"  # next to api key in console\n",
    ")\n",
    "\n",
    "# pod_type to be p1 or s1\n",
    "if index_id not in pinecone.list_indexes():\n",
    "    pinecone.create_index(\n",
    "        index_id,\n",
    "        dimension=dim,\n",
    "        metric=metric,\n",
    "        pod_type=\"s1\"\n",
    "    )\n",
    "\n",
    "# In future pinecone library there will be .GRPCIndex instead of .Index which is faster so better to use\n",
    "index = pinecone.Index(index_id)\n",
    "index.describe_index_stats()"
   ]
  },
  {
   "cell_type": "code",
   "execution_count": 36,
   "id": "2d5b1008-4d9d-49b0-bcd3-586c0dc5fb0a",
   "metadata": {},
   "outputs": [
    {
     "data": {
      "application/vnd.jupyter.widget-view+json": {
       "model_id": "88a9b5d07a164c159b4d3a4adf4764a1",
       "version_major": 2,
       "version_minor": 0
      },
      "text/plain": [
       "  0%|          | 0/68 [00:00<?, ?it/s]"
      ]
     },
     "metadata": {},
     "output_type": "display_data"
    }
   ],
   "source": [
    "batch_size = 64\n",
    "\n",
    "for i in tqdm(range(0, len(data), batch_size)):\n",
    "    # extract batch of data\n",
    "    i_end = min(i+batch_size, len(data))\n",
    "    batch = data[i:i_end]\n",
    "    # pass data to builder and upsert\n",
    "    index.upsert(upserts[i:i+batch_size])"
   ]
  },
  {
   "cell_type": "code",
   "execution_count": null,
   "id": "8beddfb1-8c83-4f31-92dd-257c5ec017ae",
   "metadata": {},
   "outputs": [],
   "source": []
  }
 ],
 "metadata": {
  "kernelspec": {
   "display_name": "Python 3",
   "language": "python",
   "name": "python3"
  },
  "language_info": {
   "codemirror_mode": {
    "name": "ipython",
    "version": 3
   },
   "file_extension": ".py",
   "mimetype": "text/x-python",
   "name": "python",
   "nbconvert_exporter": "python",
   "pygments_lexer": "ipython3",
   "version": "3.9.16"
  }
 },
 "nbformat": 4,
 "nbformat_minor": 5
}
